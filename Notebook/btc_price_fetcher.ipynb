{
 "cells": [
  {
   "cell_type": "code",
   "execution_count": 1,
   "id": "2e2a808a-500a-4483-b339-fcdc159af3eb",
   "metadata": {},
   "outputs": [
    {
     "name": "stdout",
     "output_type": "stream",
     "text": [
      "Requirement already satisfied: requests in c:\\users\\rohit\\anaconda3\\lib\\site-packages (2.32.2)\n",
      "Requirement already satisfied: mysql-connector-python in c:\\users\\rohit\\anaconda3\\lib\\site-packages (9.2.0)\n",
      "Requirement already satisfied: charset-normalizer<4,>=2 in c:\\users\\rohit\\anaconda3\\lib\\site-packages (from requests) (2.0.4)\n",
      "Requirement already satisfied: idna<4,>=2.5 in c:\\users\\rohit\\anaconda3\\lib\\site-packages (from requests) (3.7)\n",
      "Requirement already satisfied: urllib3<3,>=1.21.1 in c:\\users\\rohit\\anaconda3\\lib\\site-packages (from requests) (2.2.2)\n",
      "Requirement already satisfied: certifi>=2017.4.17 in c:\\users\\rohit\\anaconda3\\lib\\site-packages (from requests) (2024.7.4)\n"
     ]
    }
   ],
   "source": [
    "!pip install requests mysql-connector-python"
   ]
  },
  {
   "cell_type": "code",
   "execution_count": 1,
   "id": "ee6cacc8-edbd-4730-a0ac-958bd2418079",
   "metadata": {},
   "outputs": [
    {
     "name": "stdout",
     "output_type": "stream",
     "text": [
      "Collecting pymysql\n",
      "  Downloading PyMySQL-1.1.1-py3-none-any.whl.metadata (4.4 kB)\n",
      "Downloading PyMySQL-1.1.1-py3-none-any.whl (44 kB)\n",
      "   ---------------------------------------- 0.0/45.0 kB ? eta -:--:--\n",
      "   ------------------ --------------------- 20.5/45.0 kB ? eta -:--:--\n",
      "   ---------------------------------------- 45.0/45.0 kB 739.0 kB/s eta 0:00:00\n",
      "Installing collected packages: pymysql\n",
      "Successfully installed pymysql-1.1.1\n"
     ]
    }
   ],
   "source": [
    "!pip install pymysql"
   ]
  },
  {
   "cell_type": "code",
   "execution_count": 3,
   "id": "760f1f1a-5115-4f88-9830-5cf20a052e5f",
   "metadata": {},
   "outputs": [
    {
     "name": "stdout",
     "output_type": "stream",
     "text": [
      "🔌 Connecting using PyMySQL...\n",
      "✅ Connected using PyMySQL!\n"
     ]
    }
   ],
   "source": [
    "import pymysql\n",
    "\n",
    "try:\n",
    "    print(\"🔌 Connecting using PyMySQL...\")\n",
    "    conn = pymysql.connect(\n",
    "        host=\"127.0.0.1\",\n",
    "        port=3306,\n",
    "        user=\"root\",\n",
    "        password=\"root\",\n",
    "        database=\"crypto_db\",\n",
    "        connect_timeout=5\n",
    "    )\n",
    "    print(\"✅ Connected using PyMySQL!\")\n",
    "    conn.close()\n",
    "except Exception as e:\n",
    "    print(\"❌ Error:\", e)\n"
   ]
  },
  {
   "cell_type": "code",
   "execution_count": 5,
   "id": "bc0b2feb-06d2-44a6-9389-370adb8af585",
   "metadata": {},
   "outputs": [
    {
     "name": "stdout",
     "output_type": "stream",
     "text": [
      "📡 Fetching BTC price...\n",
      "💰 BTC Price: $85006 at 2025-04-14 15:41:14.137743\n",
      "🔌 Connecting to MySQL...\n",
      "📝 Inserting into database...\n",
      "✅ BTC price inserted successfully!\n"
     ]
    }
   ],
   "source": [
    "import requests\n",
    "import pymysql\n",
    "from datetime import datetime\n",
    "\n",
    "try:\n",
    "    # Step 1: Fetch BTC price from CoinGecko API\n",
    "    print(\"📡 Fetching BTC price...\")\n",
    "    url = \"https://api.coingecko.com/api/v3/simple/price?ids=bitcoin&vs_currencies=usd\"\n",
    "    response = requests.get(url)\n",
    "    response.raise_for_status()\n",
    "    data = response.json()\n",
    "    \n",
    "    symbol = 'BTC'\n",
    "    price = data['bitcoin']['usd']\n",
    "    timestamp = datetime.now()\n",
    "\n",
    "    print(f\"💰 BTC Price: ${price} at {timestamp}\")\n",
    "\n",
    "    # Step 2: Connect to MySQL\n",
    "    print(\"🔌 Connecting to MySQL...\")\n",
    "    conn = pymysql.connect(\n",
    "        host=\"127.0.0.1\",\n",
    "        port=3306,\n",
    "        user=\"root\",\n",
    "        password=\"root\",\n",
    "        database=\"crypto_db\"\n",
    "    )\n",
    "    cursor = conn.cursor()\n",
    "\n",
    "    # Step 3: Insert price into the database\n",
    "    print(\"📝 Inserting into database...\")\n",
    "    cursor.execute(\"\"\"\n",
    "        INSERT INTO crypto_prices (symbol, price, timestamp)\n",
    "        VALUES (%s, %s, %s)\n",
    "    \"\"\", (symbol, price, timestamp))\n",
    "\n",
    "    conn.commit()\n",
    "    conn.close()\n",
    "\n",
    "    print(\"✅ BTC price inserted successfully!\")\n",
    "\n",
    "except Exception as e:\n",
    "    print(\"❌ Error:\", e)\n"
   ]
  },
  {
   "cell_type": "code",
   "execution_count": 7,
   "id": "e1a645cc-cacf-49ce-b9cc-26b424a07871",
   "metadata": {},
   "outputs": [
    {
     "ename": "ImportError",
     "evalue": "cannot import name 'DAG' from 'airflow' (unknown location)",
     "output_type": "error",
     "traceback": [
      "\u001b[1;31m---------------------------------------------------------------------------\u001b[0m",
      "\u001b[1;31mImportError\u001b[0m                               Traceback (most recent call last)",
      "Cell \u001b[1;32mIn[7], line 1\u001b[0m\n\u001b[1;32m----> 1\u001b[0m \u001b[38;5;28;01mfrom\u001b[39;00m \u001b[38;5;21;01mairflow\u001b[39;00m \u001b[38;5;28;01mimport\u001b[39;00m DAG\n\u001b[0;32m      2\u001b[0m \u001b[38;5;28;01mfrom\u001b[39;00m \u001b[38;5;21;01mairflow\u001b[39;00m\u001b[38;5;21;01m.\u001b[39;00m\u001b[38;5;21;01moperators\u001b[39;00m\u001b[38;5;21;01m.\u001b[39;00m\u001b[38;5;21;01mpython\u001b[39;00m \u001b[38;5;28;01mimport\u001b[39;00m PythonOperator\n\u001b[0;32m      3\u001b[0m \u001b[38;5;28;01mfrom\u001b[39;00m \u001b[38;5;21;01mdatetime\u001b[39;00m \u001b[38;5;28;01mimport\u001b[39;00m datetime, timedelta\n",
      "\u001b[1;31mImportError\u001b[0m: cannot import name 'DAG' from 'airflow' (unknown location)"
     ]
    }
   ],
   "source": [
    "from airflow import DAG\n",
    "from airflow.operators.python import PythonOperator\n",
    "from datetime import datetime, timedelta\n",
    "import requests\n",
    "import pymysql\n",
    "\n",
    "# Default arguments\n",
    "default_args = {\n",
    "    'owner': 'airflow',\n",
    "    'retries': 3,\n",
    "    'retry_delay': timedelta(minutes=5)\n",
    "}\n",
    "\n",
    "# Function to fetch BTC price and store in MySQL\n",
    "def fetch_and_store_btc_price():\n",
    "    # Get BTC price\n",
    "    url = \"https://api.coindesk.com/v1/bpi/currentprice/BTC.json\"\n",
    "    response = requests.get(url)\n",
    "    data = response.json()\n",
    "    btc_price = data[\"bpi\"][\"USD\"][\"rate_float\"]\n",
    "    timestamp = data[\"time\"][\"updatedISO\"]\n",
    "\n",
    "    # Connect to MySQL\n",
    "    conn = pymysql.connect(\n",
    "        host=\"host.docker.internal\",  # maps to your local machine\n",
    "        user=\"root\",\n",
    "        password=\"root\",\n",
    "        database=\"crypto\"\n",
    "    )\n",
    "    cursor = conn.cursor()\n",
    "\n",
    "    # Insert data\n",
    "    cursor.execute(\"CREATE TABLE IF NOT EXISTS btc_price (timestamp DATETIME, price FLOAT)\")\n",
    "    cursor.execute(\"INSERT INTO btc_price (timestamp, price) VALUES (%s, %s)\", (timestamp, btc_price))\n",
    "    conn.commit()\n",
    "    cursor.close()\n",
    "    conn.close()\n",
    "\n",
    "# Define DAG\n",
    "with DAG(\n",
    "    dag_id='btc_price_fetcher',\n",
    "    default_args=default_args,\n",
    "    description='Fetch BTC price and load into MySQL every 10 minutes',\n",
    "    schedule_interval='*/10 * * * *',  # Every 10 minutes\n",
    "    start_date=datetime(2024, 4, 1),\n",
    "    catchup=False,\n",
    "    tags=['btc', 'mysql']\n",
    ") as dag:\n",
    "\n",
    "    fetch_price = PythonOperator(\n",
    "        task_id='fetch_and_store_btc_price',\n",
    "        python_callable=fetch_and_store_btc_price\n",
    "    )\n"
   ]
  },
  {
   "cell_type": "code",
   "execution_count": null,
   "id": "59260a5c-9727-4b09-825d-2c9c0020aa4d",
   "metadata": {},
   "outputs": [],
   "source": []
  }
 ],
 "metadata": {
  "kernelspec": {
   "display_name": "Python 3 (ipykernel)",
   "language": "python",
   "name": "python3"
  },
  "language_info": {
   "codemirror_mode": {
    "name": "ipython",
    "version": 3
   },
   "file_extension": ".py",
   "mimetype": "text/x-python",
   "name": "python",
   "nbconvert_exporter": "python",
   "pygments_lexer": "ipython3",
   "version": "3.12.4"
  }
 },
 "nbformat": 4,
 "nbformat_minor": 5
}
